{
 "cells": [
  {
   "cell_type": "markdown",
   "metadata": {},
   "source": [
    "### 1.12."
   ]
  },
  {
   "cell_type": "code",
   "execution_count": 1,
   "metadata": {},
   "outputs": [],
   "source": [
    "f = open(\"input1.txt\", \"r\")\n",
    "y = f.read()\n",
    "y = y.split(\"\\n\")\n",
    "f.close()"
   ]
  },
  {
   "cell_type": "code",
   "execution_count": 2,
   "metadata": {},
   "outputs": [
    {
     "data": {
      "text/plain": [
       "1466"
      ]
     },
     "execution_count": 2,
     "metadata": {},
     "output_type": "execute_result"
    }
   ],
   "source": [
    "delta_y = [ (int(y[i]) - int(y[i-1])) for i in range(len(y))]\n",
    "\n",
    "delta_pos = [i for i in delta_y if i > 0]\n",
    "\n",
    "len(delta_pos)"
   ]
  },
  {
   "cell_type": "code",
   "execution_count": 3,
   "metadata": {},
   "outputs": [],
   "source": [
    "y_moving = [ (int(y[i]) + int(y[i+1]) + int(y[i+2]) ) for i in range(len(y) - 2)]\n",
    "\n",
    "delta_moving = [(y_moving[i] - y_moving[i-1]) for i in range(len(y_moving)) ]\n",
    "\n",
    "delta_mov_pos = [i for i in delta_moving if i > 0]"
   ]
  },
  {
   "cell_type": "code",
   "execution_count": 4,
   "metadata": {},
   "outputs": [
    {
     "data": {
      "text/plain": [
       "1491"
      ]
     },
     "execution_count": 4,
     "metadata": {},
     "output_type": "execute_result"
    }
   ],
   "source": [
    "len(delta_mov_pos)"
   ]
  },
  {
   "cell_type": "markdown",
   "metadata": {},
   "source": [
    "### 2.12."
   ]
  },
  {
   "cell_type": "code",
   "execution_count": 19,
   "metadata": {},
   "outputs": [],
   "source": [
    "f = open(\"input2.txt\", \"r\")\n",
    "y = f.read()\n",
    "y = y.split(\"\\n\")\n",
    "f.close()"
   ]
  },
  {
   "cell_type": "code",
   "execution_count": 52,
   "metadata": {},
   "outputs": [],
   "source": [
    "def split(slovo):\n",
    "    return [int(i[-1]) for i in y if i[0] == slovo]\n",
    "\n",
    "\n",
    "forward = split('f')\n",
    "up = split('u')\n",
    "down = split('d')\n"
   ]
  },
  {
   "cell_type": "code",
   "execution_count": 53,
   "metadata": {},
   "outputs": [
    {
     "name": "stdout",
     "output_type": "stream",
     "text": [
      "1580000\n"
     ]
    }
   ],
   "source": [
    "xmax1 = sum(forward)\n",
    "ymax1 = sum(down) - sum(up)\n",
    "\n",
    "print(xmax1*ymax1)"
   ]
  },
  {
   "cell_type": "code",
   "execution_count": 61,
   "metadata": {},
   "outputs": [],
   "source": [
    "xmax2 = 0\n",
    "ymax2 = 0\n",
    "aim = 0\n",
    "for i in y:\n",
    "    if i[0] == 'u': aim -= int(i[-1])\n",
    "    if i[0] == 'd': aim += int(i[-1])\n",
    "    if i[0] == 'f':\n",
    "        xmax2 += int(i[-1])\n",
    "        ymax2 += int(i[-1])*aim"
   ]
  },
  {
   "cell_type": "code",
   "execution_count": 64,
   "metadata": {},
   "outputs": [
    {
     "name": "stdout",
     "output_type": "stream",
     "text": [
      "1251263225\n"
     ]
    }
   ],
   "source": [
    "print(xmax2*ymax2)"
   ]
  },
  {
   "cell_type": "markdown",
   "metadata": {},
   "source": [
    "### 3.12."
   ]
  },
  {
   "cell_type": "code",
   "execution_count": 28,
   "metadata": {},
   "outputs": [],
   "source": [
    "from collections import Counter"
   ]
  },
  {
   "cell_type": "code",
   "execution_count": 14,
   "metadata": {},
   "outputs": [],
   "source": [
    "f = open(\"input3.txt\", \"r\")\n",
    "x = f.read()\n",
    "x = x.split(\"\\n\")\n",
    "f.close()"
   ]
  },
  {
   "cell_type": "code",
   "execution_count": 57,
   "metadata": {},
   "outputs": [
    {
     "name": "stdout",
     "output_type": "stream",
     "text": [
      "2261546\n"
     ]
    }
   ],
   "source": [
    "gamma = ''.join([ Counter([i[j] for i in x]).most_common(1)[0][0] for j in range(len(x[0])) ])\n",
    "epsilon = ''.join(['0' if g=='1' else '1' for g in gamma ])\n",
    "print(int(gamma, 2)*int(epsilon, 2))"
   ]
  },
  {
   "cell_type": "code",
   "execution_count": 92,
   "metadata": {},
   "outputs": [
    {
     "name": "stdout",
     "output_type": "stream",
     "text": [
      "3995\n"
     ]
    }
   ],
   "source": [
    "lista = x\n",
    "for i in range(len(x[0])):\n",
    "    count = Counter([k[i] for k in lista])\n",
    "    if count.most_common(2)[0][1] == count.most_common(2)[1][1]:\n",
    "        keep = '1'\n",
    "    else:\n",
    "        keep = count.most_common(2)[0][0]\n",
    "    lista = [k for k in lista if k[i]==keep]\n",
    "    if len(lista) == 1:\n",
    "        ogr = int(lista[0],2)\n",
    "        print(ogr)\n",
    "        break"
   ]
  },
  {
   "cell_type": "code",
   "execution_count": 90,
   "metadata": {},
   "outputs": [
    {
     "name": "stdout",
     "output_type": "stream",
     "text": [
      "1696\n"
     ]
    }
   ],
   "source": [
    "lista = x\n",
    "for i in range(len(x[0])):\n",
    "    count = Counter([k[i] for k in lista])\n",
    "    if count.most_common(2)[0][1] == count.most_common(2)[1][1]:\n",
    "        keep = '0'\n",
    "    else:\n",
    "        keep = count.most_common(2)[1][0]\n",
    "    lista = [k for k in lista if k[i]==keep]\n",
    "    if len(lista) == 1:\n",
    "        csr = int(lista[0],2)\n",
    "        print(csr)\n",
    "        break"
   ]
  },
  {
   "cell_type": "code",
   "execution_count": 93,
   "metadata": {},
   "outputs": [
    {
     "data": {
      "text/plain": [
       "6775520"
      ]
     },
     "execution_count": 93,
     "metadata": {},
     "output_type": "execute_result"
    }
   ],
   "source": [
    "ogr*csr"
   ]
  },
  {
   "cell_type": "markdown",
   "metadata": {},
   "source": [
    "### 4.12."
   ]
  },
  {
   "cell_type": "code",
   "execution_count": 1,
   "metadata": {},
   "outputs": [],
   "source": [
    "import numpy as np"
   ]
  },
  {
   "cell_type": "code",
   "execution_count": 24,
   "metadata": {},
   "outputs": [],
   "source": [
    "with open('input4.txt','r') as f:\n",
    "    x = f.read()\n",
    "x = x.split(\"\\n\\n\")\n",
    "niz = [int(i) for i in x[0].split(\",\")]"
   ]
  },
  {
   "cell_type": "code",
   "execution_count": 82,
   "metadata": {},
   "outputs": [],
   "source": [
    "mat = []\n",
    "for i in range(1, len(x)):\n",
    "    tst = [i.split(\" \") for i in x[i].split(\"\\n\")]\n",
    "    tst = [[int(i) for i in tsts if i] for tsts in tst]\n",
    "    mat.append(tst)\n",
    "\n"
   ]
  },
  {
   "cell_type": "code",
   "execution_count": 150,
   "metadata": {},
   "outputs": [
    {
     "name": "stdout",
     "output_type": "stream",
     "text": [
      "29 39 93 3\n",
      "27027.0\n"
     ]
    }
   ],
   "source": [
    "key = np.zeros((100,5,5))\n",
    "trigger = 0\n",
    "for i in range(len(niz)):\n",
    "    for j in range(100):\n",
    "        for k in range(5):\n",
    "            try:\n",
    "                l = mat[j][k].index(niz[i])\n",
    "                key[j,k,l] = 1\n",
    "            except ValueError:\n",
    "                pass\n",
    "    \n",
    "    for j in range(100):\n",
    "        for k in range(5):\n",
    "            if (np.all(key[j][k] == 1) or np.all(key[j].T[k] == 1)) and trigger == 0:\n",
    "                print(i, niz[i],j,k)\n",
    "                solmat = np.array(mat[j])\n",
    "                solkey = key[j]\n",
    "                print( (np.sum(solmat) - np.sum(np.multiply(solkey,solmat))) * niz[i] )\n",
    "                trigger += 1\n",
    "       "
   ]
  },
  {
   "cell_type": "code",
   "execution_count": 159,
   "metadata": {},
   "outputs": [
    {
     "name": "stdout",
     "output_type": "stream",
     "text": [
      "87 87 21 0\n",
      "36975.0\n"
     ]
    }
   ],
   "source": [
    "key = np.zeros((100,5,5))\n",
    "pobijedili = []\n",
    "\n",
    "for i in range(len(niz)):\n",
    "    for j in range(100):\n",
    "        for k in range(5):\n",
    "            try:\n",
    "                l = mat[j][k].index(niz[i])\n",
    "                key[j,k,l] = 1\n",
    "            except ValueError:\n",
    "                pass\n",
    "    \n",
    "    for j in range(100):\n",
    "        for k in range(5):\n",
    "            if (np.all(key[j][k] == 1) or np.all(key[j].T[k] == 1)) and (j not in pobijedili):     \n",
    "                pobijedili.append(j)\n",
    "                if len(pobijedili) == 100:\n",
    "                    print(i, niz[i],j,k)\n",
    "                    solmat = np.array(mat[j])\n",
    "                    solkey = key[j]\n",
    "                    print( (np.sum(solmat) - np.sum(np.multiply(solkey,solmat))) * niz[i] )\n",
    "\n",
    "       "
   ]
  },
  {
   "cell_type": "code",
   "execution_count": 158,
   "metadata": {},
   "outputs": [
    {
     "data": {
      "text/plain": [
       "100"
      ]
     },
     "execution_count": 158,
     "metadata": {},
     "output_type": "execute_result"
    }
   ],
   "source": [
    "len(pobijedili)"
   ]
  },
  {
   "cell_type": "markdown",
   "metadata": {},
   "source": [
    "### 5.12."
   ]
  },
  {
   "cell_type": "code",
   "execution_count": 28,
   "metadata": {},
   "outputs": [],
   "source": [
    "import numpy as np"
   ]
  },
  {
   "cell_type": "code",
   "execution_count": 63,
   "metadata": {},
   "outputs": [
    {
     "data": {
      "text/plain": [
       "array([[[692, 826],\n",
       "        [692, 915]],\n",
       "\n",
       "       [[914, 338],\n",
       "        [524, 728]],\n",
       "\n",
       "       [[ 77, 505],\n",
       "        [ 77, 912]],\n",
       "\n",
       "       ...,\n",
       "\n",
       "       [[ 90, 128],\n",
       "        [ 90, 648]],\n",
       "\n",
       "       [[ 69, 442],\n",
       "        [ 69, 675]],\n",
       "\n",
       "       [[872, 108],\n",
       "        [ 18, 962]]])"
      ]
     },
     "execution_count": 63,
     "metadata": {},
     "output_type": "execute_result"
    }
   ],
   "source": [
    "with open('input5.txt','r') as f:\n",
    "    x = f.read()\n",
    "x = x.split(\"\\n\")\n",
    "x = [ i.split(\"->\") for i in x]\n",
    "x = [[ j.split(\",\") for j in i] for i in x]\n",
    "x = np.array([[[ int(k) for k in j] for j in i] for i in x])\n",
    "x"
   ]
  },
  {
   "cell_type": "code",
   "execution_count": 90,
   "metadata": {},
   "outputs": [
    {
     "data": {
      "text/plain": [
       "5698"
      ]
     },
     "execution_count": 90,
     "metadata": {},
     "output_type": "execute_result"
    }
   ],
   "source": [
    "\n",
    "vents = np.zeros((1000,1000))\n",
    "\n",
    "for i in range(len(x)):\n",
    "    if x[i,0,0] == x[i,1,0]:\n",
    "        c = [int(x[i,0,1]), int(x[i,1,1])]\n",
    "        c.sort()\n",
    "        for j in range( c[0], c[1] + 1) :\n",
    "            #print(int(x[i,0,0]), j)\n",
    "            vents[int(x[i,0,0]), j ] += 1\n",
    "\n",
    "    if x[i,0,1] == x[i,1,1]: \n",
    "        c = [int(x[i,0,0]), int(x[i,1,0])]\n",
    "        c.sort()\n",
    "        for j in range( c[0], c[1] + 1) :\n",
    "            #print(j, int(x[i,0,1]))\n",
    "            vents[j, int(x[i,0,1])] += 1\n",
    "\n",
    "danger = vents >= 2\n",
    "            \n",
    "np.sum(danger)"
   ]
  },
  {
   "cell_type": "code",
   "execution_count": 147,
   "metadata": {},
   "outputs": [
    {
     "data": {
      "text/plain": [
       "15463"
      ]
     },
     "execution_count": 147,
     "metadata": {},
     "output_type": "execute_result"
    }
   ],
   "source": [
    "vents = np.zeros((1000,1000))\n",
    "\n",
    "for i in range(len(x)):\n",
    "    if x[i,0,0] == x[i,1,0]:\n",
    "        c = [int(x[i,0,1]), int(x[i,1,1])]\n",
    "        c.sort()\n",
    "        for j in range( c[0], c[1] + 1) :\n",
    "        \n",
    "            vents[int(x[i,0,0]), j ] += 1\n",
    "\n",
    "    if x[i,0,1] == x[i,1,1]: \n",
    "        c = [int(x[i,0,0]), int(x[i,1,0])]\n",
    "        c.sort()\n",
    "        for j in range( c[0], c[1] + 1) :\n",
    "   \n",
    "            vents[j, int(x[i,0,1])] += 1\n",
    "            \n",
    "    else:\n",
    "        for j in range( np.abs(x[i,0,0] - x[i,1,0]) +1 ):\n",
    "            if x[i,0,0] == x[i,1,0] or x[i,0,1] == x[i,1,1]: break\n",
    "            sign_x = np.sign(x[i,1,0] - x[i,0,0])\n",
    "            sign_y = np.sign(x[i,1,1] - x[i,0,1])\n",
    "\n",
    "            #print(i, int(x[i,0,0] + sign_x*(j)) , int(x[i,0,1] + sign_y*(j)), j)\n",
    "            \n",
    "            vents[ int(x[i,0,0] + sign_x*j) , int(x[i,0,1] + sign_y*j) ] += 1\n",
    "\n",
    "danger = vents >= 2\n",
    "            \n",
    "np.sum(danger)"
   ]
  },
  {
   "cell_type": "markdown",
   "metadata": {},
   "source": [
    "### 6.12."
   ]
  },
  {
   "cell_type": "code",
   "execution_count": 1,
   "metadata": {},
   "outputs": [],
   "source": [
    "import numpy as np\n",
    "import time"
   ]
  },
  {
   "cell_type": "code",
   "execution_count": 2,
   "metadata": {},
   "outputs": [],
   "source": [
    "with open('input6.txt','r') as f:\n",
    "    x = f.read()\n",
    "\n",
    "x = x.split(\",\")\n",
    "x = [int(i) for i in x]\n"
   ]
  },
  {
   "cell_type": "code",
   "execution_count": 3,
   "metadata": {},
   "outputs": [],
   "source": [
    "x_test = [3,4,3,1,2]"
   ]
  },
  {
   "cell_type": "code",
   "execution_count": 6,
   "metadata": {
    "scrolled": false
   },
   "outputs": [
    {
     "name": "stdout",
     "output_type": "stream",
     "text": [
      "0.39379310607910156 5934\n"
     ]
    }
   ],
   "source": [
    "#radi\n",
    "\n",
    "start = time.time()\n",
    "\n",
    "fish = np.array(x_test)\n",
    "\n",
    "for i in range(80 + 1):\n",
    "    #print(i, len(fish))\n",
    "    if i == 0: \n",
    "        continue\n",
    "    \n",
    "    fish = fish - np.ones(len(fish))\n",
    "    idxs = np.where(fish < 0)\n",
    "    if len(idxs[0]) != 0:\n",
    "        fish = np.append(fish, [8]*len(idxs[0]))\n",
    "        for idx in idxs:\n",
    "            fish[idx] = 6\n",
    "    \n",
    "end = time.time()\n",
    "\n",
    "print(end - start, len(fish))"
   ]
  },
  {
   "cell_type": "code",
   "execution_count": 32,
   "metadata": {},
   "outputs": [
    {
     "name": "stdout",
     "output_type": "stream",
     "text": [
      "0.0009970664978027344 1569108373832\n"
     ]
    }
   ],
   "source": [
    "#optimized\n",
    "\n",
    "start = time.time()\n",
    "\n",
    "\n",
    "days = [x.count(i) for i in range(9) ]\n",
    "\n",
    "\n",
    "for i in range(256 + 1):\n",
    "#    print(days)\n",
    "    if i == 0: \n",
    "        continue\n",
    "    \n",
    "    days_new = [0]*9\n",
    "     \n",
    "    \n",
    "    for i in range(8):\n",
    "        days_new[i] = days[i+1]\n",
    "\n",
    "    days_new[6] += days[0]\n",
    "    days_new[8] += days[0]\n",
    "    \n",
    "    days = days_new\n",
    "    \n",
    "\n",
    "    \n",
    "end = time.time()\n",
    "\n",
    "print(end - start, sum(days))"
   ]
  },
  {
   "cell_type": "markdown",
   "metadata": {},
   "source": [
    "### 7.12."
   ]
  },
  {
   "cell_type": "code",
   "execution_count": 46,
   "metadata": {},
   "outputs": [],
   "source": [
    "from statistics import median, mean\n",
    "\n",
    "with open('input7.txt','r') as f:\n",
    "    x = f.read()\n",
    "\n",
    "x = x.split(\",\")\n",
    "x = [int(i) for i in x]\n",
    "\n",
    "x_tst = [16,1,2,0,4,2,7,1,2,14]"
   ]
  },
  {
   "cell_type": "code",
   "execution_count": 65,
   "metadata": {},
   "outputs": [
    {
     "name": "stdout",
     "output_type": "stream",
     "text": [
      "342534\n"
     ]
    }
   ],
   "source": [
    "print(int(sum([abs(median(x) - i) for i in x])))"
   ]
  },
  {
   "cell_type": "code",
   "execution_count": 67,
   "metadata": {
    "scrolled": true
   },
   "outputs": [
    {
     "name": "stdout",
     "output_type": "stream",
     "text": [
      "94004208\n"
     ]
    }
   ],
   "source": [
    "print(int(sum([ (abs(int(mean(x)) - i) )*(abs(int(mean(x)) - i) + 1 )/2 for i in x ])))"
   ]
  },
  {
   "cell_type": "markdown",
   "metadata": {},
   "source": [
    "### 8.12."
   ]
  },
  {
   "cell_type": "code",
   "execution_count": 1,
   "metadata": {},
   "outputs": [],
   "source": [
    "with open('input8.txt','r') as f:\n",
    "    x = f.read()\n",
    "\n",
    "x = x.split(\"\\n\")\n",
    "x = [i.split(\" | \") for i in x]\n",
    "x = [[i.split(\" \") for i in j ] for j in x]\n"
   ]
  },
  {
   "cell_type": "code",
   "execution_count": 2,
   "metadata": {},
   "outputs": [
    {
     "data": {
      "text/plain": [
       "534"
      ]
     },
     "execution_count": 2,
     "metadata": {},
     "output_type": "execute_result"
    }
   ],
   "source": [
    "sum([len([ j for j in i[1] if len(j) in [2,3,4,7] ]) for i in x])"
   ]
  },
  {
   "cell_type": "code",
   "execution_count": 126,
   "metadata": {},
   "outputs": [],
   "source": [
    "\n",
    "x_tst = [ [\"acedgfb\", \"cdfbe\", \"gcdfa\", \"fbcad\", \"dab\", \"cefabd\", \"cdfgeb\", \"eafb\", \"cagedb\", \"ab\"], [\"cdfeb\", \"fcadb\", \"cdfeb\", \"cdbaf\"] ]\n",
    "\n",
    "y_tst = [[-1]*10,[-1]*4]\n",
    "\n",
    "\n",
    "def str_sub(str1, str2):\n",
    "    str_temp = str1\n",
    "    \n",
    "    for s in str2:\n",
    "        str_temp = str_temp.replace(s, '')\n",
    "        \n",
    "    return str_temp\n",
    "\n",
    "def contains(str1, str2):\n",
    "      \n",
    "    count = 0\n",
    "    \n",
    "    for s in str2:\n",
    "        if s in str1:\n",
    "            count += 1\n",
    "            \n",
    "    if count == len(str2): return True\n",
    "    else: return False\n",
    "    \n",
    "def is_perm(str1, str2):\n",
    "    \n",
    "    if contains(str1,str2) and len(str1) == len(str2):\n",
    "        return True\n",
    "    \n",
    "    else: return False\n",
    "    \n",
    "\n",
    "\n",
    "y_tst[0][7] = [i for i in x_tst[0] if len(i) == 3  ][0]\n",
    "y_tst[0][1] = [i for i in x_tst[0] if len(i) == 2  ][0]\n",
    "y_tst[0][4] = [i for i in x_tst[0] if len(i) == 4  ][0]\n",
    "y_tst[0][8] = [i for i in x_tst[0] if len(i) == 7  ][0]\n",
    "\n",
    "\n",
    "a = str_sub(y_tst[0][7], y_tst[0][1])\n",
    "bd = str_sub(y_tst[0][4], y_tst[0][1])\n",
    "eg = str_sub(y_tst[0][8], y_tst[0][4]).replace(a,'')\n",
    "\n",
    "y_tst[0][6] = [i for i in x_tst[0] if (len(i) == 6 and contains(i, a+bd+eg)  ) ][0]\n",
    "\n",
    "c = str_sub(y_tst[0][8], y_tst[0][6])\n",
    "\n",
    "y_tst[0][5] = [i for i in x_tst[0] if (len(i) == 5 and not contains(i, c)  ) ][0]\n",
    "\n",
    "e = str_sub(y_tst[0][6], y_tst[0][5])\n",
    "\n",
    "y_tst[0][2] = [i for i in x_tst[0] if (len(i) == 5 and contains(i, e)  ) ][0]\n",
    "\n",
    "y_tst[0][3] = [i for i in x_tst[0] if (len(i) == 5 and not (is_perm(i, y_tst[0][2]) or is_perm(i, y_tst[0][5]))  ) ][0]\n",
    "\n",
    "b = str_sub(y_tst[0][8], y_tst[0][3]).replace('e','')\n",
    "\n",
    "y_tst[0][0] = [i for i in x_tst[0] if (len(i) == 6 and contains(i, e+c)  ) ][0]\n",
    "\n",
    "y_tst[0][9] = [i for i in x_tst[0] if (len(i) == 6 and not (is_perm(i, y_tst[0][6]) or is_perm(i, y_tst[0][0]))  ) ][0]\n",
    "\n",
    "\n",
    "\n",
    "y_tst[1] = int(\"\".join([[ str(y_tst[0].index(i)) for i in y_tst[0]  if is_perm(i, j) ][0] for j in x_tst[1]]))\n",
    "\n",
    "\n",
    "\n",
    "#napiši linearne kombinacije brojeva\n",
    "#iz poznatih probaj dobiti kodiranje \n",
    "\n",
    "    # a = 7 - 1\n",
    "    # bd = 4 - 1\n",
    "    # eg = 8 - 7 - bd = 8 - 4 - a\n",
    "    \n",
    "# nepoznati\n",
    "    # 6 ima a, bd i eg, 6 slova\n",
    "    # c = 8 - 6\n",
    "    \n",
    "    # 5 je jedini s 5 slova bez c\n",
    "    # e = 6 - 5\n",
    "    \n",
    "    # 2 jedini s 5 slova i s e\n",
    "    \n",
    "    # 3 jedini ostao s 5 slova\n",
    "    # be = 8 - 3\n",
    "    # b = be - e\n",
    "    \n",
    "    # 0 jedini s 6 slova i sa c i sa e\n",
    "    # d = 8 - 0\n",
    "    \n",
    "    # 9 jedini s 6 slova ostao\n",
    "    \n",
    "    # f = 8 - 2 - b\n",
    "    \n",
    "    # g = 9 - 4 - a\n",
    "\n",
    "    "
   ]
  },
  {
   "cell_type": "code",
   "execution_count": 166,
   "metadata": {},
   "outputs": [],
   "source": [
    "y = [[[-1]*10,[-1]*4] for i in range(200)]\n",
    "\n",
    "for k in range(len(x)):\n",
    "\n",
    "    y[k][0][7] = [i for i in x[k][0] if len(i) == 3  ][0]\n",
    "    y[k][0][1] = [i for i in x[k][0] if len(i) == 2  ][0]\n",
    "    y[k][0][4] = [i for i in x[k][0] if len(i) == 4  ][0]\n",
    "    y[k][0][8] = [i for i in x[k][0] if len(i) == 7  ][0]\n",
    "\n",
    "\n",
    "    a = str_sub(y[k][0][7], y[k][0][1])\n",
    "    bd = str_sub(y[k][0][4], y[k][0][1])\n",
    "    eg = str_sub(y[k][0][8], y[k][0][4]).replace(a,'')\n",
    "\n",
    "    y[k][0][6] = [i for i in x[k][0] if (len(i) == 6 and contains(i, a+bd+eg)  ) ][0]\n",
    "\n",
    "    c = str_sub(y[k][0][8], y[k][0][6])\n",
    "\n",
    "    y[k][0][5] = [i for i in x[k][0] if (len(i) == 5 and not contains(i, c)  ) ][0]\n",
    "\n",
    "    e = str_sub(y[k][0][6], y[k][0][5])\n",
    "\n",
    "    y[k][0][2] = [i for i in x[k][0] if (len(i) == 5 and contains(i, e)  ) ][0]\n",
    "\n",
    "    y[k][0][3] = [i for i in x[k][0] if (len(i) == 5 and not (is_perm(i, y[k][0][2]) or is_perm(i, y[k][0][5]))  ) ][0]\n",
    "\n",
    "    b = str_sub(y[k][0][8], y[k][0][3]).replace('e','')\n",
    "\n",
    "    y[k][0][0] = [i for i in x[k][0] if (len(i) == 6 and contains(i, e+c)  ) ][0]\n",
    "\n",
    "    y[k][0][9] = [i for i in x[k][0] if (len(i) == 6 and not (is_perm(i, y[k][0][6]) or is_perm(i, y[k][0][0]))  ) ][0]\n",
    "\n",
    "\n",
    "\n",
    "    y[k][1] = int(\"\".join([[ str(y[k][0].index(i)) for i in y[k][0]  if is_perm(i, j) ][0] for j in x[k][1]]))\n",
    "\n",
    "    "
   ]
  },
  {
   "cell_type": "code",
   "execution_count": 173,
   "metadata": {},
   "outputs": [
    {
     "data": {
      "text/plain": [
       "1070188"
      ]
     },
     "execution_count": 173,
     "metadata": {},
     "output_type": "execute_result"
    }
   ],
   "source": [
    "sum([ y[i][1] for i in range(200)  ])"
   ]
  },
  {
   "cell_type": "markdown",
   "metadata": {},
   "source": [
    "### 9.12."
   ]
  },
  {
   "cell_type": "code",
   "execution_count": 1,
   "metadata": {},
   "outputs": [],
   "source": [
    "import numpy as np"
   ]
  },
  {
   "cell_type": "code",
   "execution_count": 90,
   "metadata": {},
   "outputs": [],
   "source": [
    "with open('input9.txt','r') as f:\n",
    "    x = f.read()\n",
    "\n",
    "x = [[int(j) for j in i ]for i in x.split(\"\\n\")]\n",
    "\n",
    "for i in range(100):\n",
    "    x[i].insert(0,9)\n",
    "    x[i].append(9)\n",
    "    \n",
    "x.insert(0, [9]*102)\n",
    "x.append([9]*102)\n",
    "\n",
    "with open('tst_input.txt','r') as f:\n",
    "    x_tst = f.read()\n",
    "\n",
    "x_tst = [[int(j) for j in i ] for i in x_tst.split(\"\\n\")]\n",
    "\n",
    "for i in range(5):\n",
    "    x_tst[i].insert(0,9)\n",
    "    x_tst[i].append(9)\n",
    "\n",
    "x_tst.insert(0, [9]*12)\n",
    "x_tst.append([9]*12)\n"
   ]
  },
  {
   "cell_type": "code",
   "execution_count": 91,
   "metadata": {},
   "outputs": [
    {
     "data": {
      "text/plain": [
       "502"
      ]
     },
     "execution_count": 91,
     "metadata": {},
     "output_type": "execute_result"
    }
   ],
   "source": [
    "def minn(x, i, j):\n",
    "      \n",
    "    if x[i][j] < x[i][j-1] and x[i][j] < x[i][j+1] and x[i][j] < x[i-1][j] and x[i][j] < x[i+1][j]:\n",
    "        return True\n",
    "    else:\n",
    "        return False\n",
    "    \n",
    "y = [[ x[i][j]+1  if minn(x, i, j) else 0 for j in range(1, 101)] for i in range(1, 101)]\n",
    "    \n",
    "sum([sum(i) for i in y])   \n"
   ]
  },
  {
   "cell_type": "code",
   "execution_count": 92,
   "metadata": {},
   "outputs": [
    {
     "name": "stdout",
     "output_type": "stream",
     "text": [
      "1330560\n"
     ]
    }
   ],
   "source": [
    "### algoritam (pretpostavka da nema infleksija!)\n",
    "\n",
    "# 1. iteriramo slijeva nadesno\n",
    "# 2. ako susjedno polje ima manji broj od tog polja\n",
    "#   2.1. najmanjem od njih se pribraja vrijednost tog polja\n",
    "#   2.2. tie-break bezvezni (smisli pametnije)\n",
    "# 3. ponavljaj dok ne konvergira\n",
    "\n",
    "\n",
    "x = np.array(x)\n",
    "basins = np.array([[1 if j != 9 else 0 for j in i] for i in x])\n",
    "\n",
    "\n",
    "for n in range(10):\n",
    "    for i in range(1, len(x) - 1):\n",
    "        for j in range(1, len(x[0]) - 1):\n",
    "            \n",
    "            if x[i, j] != 9:\n",
    "                \n",
    "                nbrs = np.array([ x[i, j-1], x[i+1, j], x[i, j+1], x[i-1, j] ])\n",
    "                idx = np.where(nbrs == nbrs.min())[0]\n",
    "                \n",
    "                if not minn(x, i, j):\n",
    "                    \n",
    "                    if idx[0] == 0:\n",
    "                        basins[i, j - 1] += basins[i,j] \n",
    "                    if idx[0] == 1:\n",
    "                        basins[i + 1, j] += basins[i,j]\n",
    "                    if idx[0] == 2:\n",
    "                        basins[i, j + 1] += basins[i,j]\n",
    "                    if idx[0] == 3:\n",
    "                        basins[i - 1, j] += basins[i,j]\n",
    "                             \n",
    "                    basins[i,j] = 0\n",
    "                    \n",
    "                    \n",
    "                                \n",
    "\n",
    "loc = np.where(basins != 0)\n",
    "print(np.prod(np.sort(basins[loc[0], loc[1]])[::-1][0:3]))"
   ]
  },
  {
   "cell_type": "markdown",
   "metadata": {},
   "source": [
    "### 10.12."
   ]
  },
  {
   "cell_type": "code",
   "execution_count": 17,
   "metadata": {},
   "outputs": [],
   "source": [
    "import numpy as np\n",
    "import matplotlib.pyplot as plt"
   ]
  },
  {
   "cell_type": "code",
   "execution_count": 196,
   "metadata": {},
   "outputs": [],
   "source": [
    "with open('input10.txt','r') as f:\n",
    "    x_in = f.read()\n",
    "\n",
    "x_in = x_in.split(\"\\n\")\n",
    "\n",
    "with open('tst_input10.txt','r') as f:\n",
    "    x_tst = f.read()\n",
    "\n",
    "x_tst = x_tst.split(\"\\n\")"
   ]
  },
  {
   "cell_type": "code",
   "execution_count": 205,
   "metadata": {},
   "outputs": [
    {
     "name": "stdout",
     "output_type": "stream",
     "text": [
      "315693\n"
     ]
    }
   ],
   "source": [
    "## alogritam 1\n",
    "\n",
    "n = 10\n",
    "\n",
    "lista = [ k+l for k in ['{','(','[','<'] for l in ['}',')',']','>']]\n",
    "x = x_in\n",
    "\n",
    "result = []\n",
    "idx_incomplete = []\n",
    "\n",
    "def points(x, k, i):\n",
    "    \n",
    "    if x[k][i] == ')': return 3\n",
    "    if x[k][i] == ']': return 57\n",
    "    if x[k][i] == '}': return 1197\n",
    "    if x[k][i] == '>': return 25137\n",
    "    \n",
    "        \n",
    "for k in range(len(x)):\n",
    "    \n",
    "    for j in range(n):\n",
    "        x[k] = x[k].replace(\"[]\", \"\")\n",
    "        x[k] = x[k].replace(\"()\", \"\")\n",
    "        x[k] = x[k].replace(\"{}\", \"\")\n",
    "        x[k] = x[k].replace(\"<>\", \"\")\n",
    "  \n",
    "    try:\n",
    "        for i in range(len(x[k])):\n",
    "            if x[k][i]+x[k][i+1] in lista:\n",
    "                \n",
    "                r = points(x, k, i + 1)\n",
    "                \n",
    "                result.append(r)\n",
    "                break \n",
    "                \n",
    "    except IndexError:\n",
    "        idx_incomplete.append(x.index(x[k]))\n",
    "        \n",
    "\n",
    "\n",
    "print(sum(result))"
   ]
  },
  {
   "cell_type": "code",
   "execution_count": 207,
   "metadata": {},
   "outputs": [
    {
     "name": "stdout",
     "output_type": "stream",
     "text": [
      "1870887234\n"
     ]
    }
   ],
   "source": [
    "## alogritam 2\n",
    "\n",
    "x_clean = [x_in[i] for i in range(len(x_in)) if i in idx_incomplete]\n",
    "x = x_clean\n",
    "\n",
    "n = 10\n",
    "\n",
    "results = []\n",
    "\n",
    "def points2(x):\n",
    "    if x == '(': return 1\n",
    "    if x == '[': return 2\n",
    "    if x == '{': return 3\n",
    "    if x == '<': return 4\n",
    "\n",
    "for xx in x:\n",
    "        \n",
    "#        print(xx)\n",
    "        score = [ points2(xxx) for xxx in xx[::-1]]\n",
    "        \n",
    "        res = 0\n",
    "        for s in score:\n",
    "            res = 5*res + s\n",
    "\n",
    "        results.append(res)\n",
    "        \n",
    "results.sort()\n",
    "print(results[int(len(results)/2)])"
   ]
  },
  {
   "cell_type": "markdown",
   "metadata": {},
   "source": [
    "### 11.12."
   ]
  },
  {
   "cell_type": "code",
   "execution_count": 3,
   "metadata": {},
   "outputs": [],
   "source": [
    "import numpy as np"
   ]
  },
  {
   "cell_type": "code",
   "execution_count": 19,
   "metadata": {},
   "outputs": [],
   "source": [
    "class Hobotnice:\n",
    "    \n",
    "    def __init__(self, filename, n_steps, n_passes):\n",
    "        \n",
    "        self.filename = filename\n",
    "        \n",
    "        self.n_steps = n_steps\n",
    "        self.n_passes = n_passes\n",
    "        \n",
    "        self.read()\n",
    "\n",
    "        self.n_flashes = 0\n",
    "        \n",
    "    def read(self):\n",
    "        with open(self.filename+'.txt','r') as f: \n",
    "            self.x = f.read()\n",
    "        \n",
    "        self.x = [ [ int(ll) for ll in l] for l in self.x.split(\"\\n\")]\n",
    "        \n",
    "        \n",
    "    def increment(self, f, j, k ):\n",
    "        try:\n",
    "            if j<0 or k<0:\n",
    "                raise IndexError(\"Ne trebaju nam negativni indeksi\")\n",
    "            if f[j][k] == 0:\n",
    "                self.x[j][k] += 1\n",
    "        except IndexError:\n",
    "            pass\n",
    "        \n",
    "    def inc_adj(self, f, j, k):   \n",
    "          \n",
    "        for m in [j-1, j, j+1]:\n",
    "            for n in [k-1, k, k+1]:\n",
    "                if not (m == j and n == k):\n",
    "                    \n",
    "                    self.increment(f, m, n)\n",
    "                    \n",
    "    def count_flashes(self):\n",
    "        \n",
    "        for i in range(self.n_steps):\n",
    "    \n",
    "            self.x = [[ xxx+1 for xxx in xx] for xx in self.x]\n",
    "            self.flashed = list(np.zeros((len(self.x),len(self.x))))\n",
    "\n",
    "            for l in range(self.n_passes):\n",
    "\n",
    "                for j in range(len(self.x)):\n",
    "                    for k in range(len(self.x[j])):\n",
    "\n",
    "                        if self.x[j][k] > 9:\n",
    "\n",
    "                            self.x = self.inc_adj(self.flashed, j, k)\n",
    "                            self.flashed[j][k] = 1\n",
    "                            self.n_flashes += 1\n",
    "                            self.x[j][k] = 0\n",
    "\n",
    "        print(\"U {} koraka hobotnice flashaju {} puta.\".format(self.n_steps, self.n_flashes))\n",
    "    \n",
    "    def sim_flash(self):\n",
    "\n",
    "        for i in range(self.n_steps):\n",
    "    \n",
    "            self.x = [[ xxx+1 for xxx in xx] for xx in self.x]\n",
    "            self.flashed = list(np.zeros((len(self.x),len(self.x))))\n",
    "\n",
    "            for l in range(self.n_passes):\n",
    "\n",
    "                for j in range(len(self.x)):\n",
    "                    for k in range(len(self.x[j])):\n",
    "\n",
    "                        if self.x[j][k] > 9:\n",
    "\n",
    "                            self.x = self.inc_adj(self.flashed, j, k)\n",
    "                            self.flashed[j][k] = 1\n",
    "                            self.n_flashes += 1\n",
    "                            self.x[j][k] = 0\n",
    "\n",
    "            if np.all(np.array(self.x) == 0):\n",
    "                print(\"Sve hobotnice flashaju u {}. koraku.\".format(i+1))\n",
    "                break\n",
    "\n"
   ]
  },
  {
   "cell_type": "code",
   "execution_count": 20,
   "metadata": {},
   "outputs": [
    {
     "ename": "TypeError",
     "evalue": "'NoneType' object is not subscriptable",
     "output_type": "error",
     "traceback": [
      "\u001b[1;31m---------------------------------------------------------------------------\u001b[0m",
      "\u001b[1;31mTypeError\u001b[0m                                 Traceback (most recent call last)",
      "\u001b[1;32m<ipython-input-20-be7d00530470>\u001b[0m in \u001b[0;36m<module>\u001b[1;34m\u001b[0m\n\u001b[1;32m----> 1\u001b[1;33m \u001b[0mHobotnice\u001b[0m\u001b[1;33m(\u001b[0m\u001b[1;34m'input11'\u001b[0m\u001b[1;33m,\u001b[0m \u001b[1;36m100\u001b[0m\u001b[1;33m,\u001b[0m \u001b[1;36m15\u001b[0m\u001b[1;33m)\u001b[0m\u001b[1;33m.\u001b[0m\u001b[0mcount_flashes\u001b[0m\u001b[1;33m(\u001b[0m\u001b[1;33m)\u001b[0m\u001b[1;33m\u001b[0m\u001b[1;33m\u001b[0m\u001b[0m\n\u001b[0m\u001b[0;32m      2\u001b[0m \u001b[1;33m\u001b[0m\u001b[0m\n\u001b[0;32m      3\u001b[0m \u001b[0mHobotnice\u001b[0m\u001b[1;33m(\u001b[0m\u001b[1;34m'input11'\u001b[0m\u001b[1;33m,\u001b[0m \u001b[1;36m1000\u001b[0m\u001b[1;33m,\u001b[0m \u001b[1;36m15\u001b[0m\u001b[1;33m)\u001b[0m\u001b[1;33m.\u001b[0m\u001b[0msim_flash\u001b[0m\u001b[1;33m(\u001b[0m\u001b[1;33m)\u001b[0m\u001b[1;33m\u001b[0m\u001b[1;33m\u001b[0m\u001b[0m\n",
      "\u001b[1;32m<ipython-input-19-d52e0db9a0c1>\u001b[0m in \u001b[0;36mcount_flashes\u001b[1;34m(self)\u001b[0m\n\u001b[0;32m     53\u001b[0m                             \u001b[0mself\u001b[0m\u001b[1;33m.\u001b[0m\u001b[0mflashed\u001b[0m\u001b[1;33m[\u001b[0m\u001b[0mj\u001b[0m\u001b[1;33m]\u001b[0m\u001b[1;33m[\u001b[0m\u001b[0mk\u001b[0m\u001b[1;33m]\u001b[0m \u001b[1;33m=\u001b[0m \u001b[1;36m1\u001b[0m\u001b[1;33m\u001b[0m\u001b[1;33m\u001b[0m\u001b[0m\n\u001b[0;32m     54\u001b[0m                             \u001b[0mself\u001b[0m\u001b[1;33m.\u001b[0m\u001b[0mn_flashes\u001b[0m \u001b[1;33m+=\u001b[0m \u001b[1;36m1\u001b[0m\u001b[1;33m\u001b[0m\u001b[1;33m\u001b[0m\u001b[0m\n\u001b[1;32m---> 55\u001b[1;33m                             \u001b[0mself\u001b[0m\u001b[1;33m.\u001b[0m\u001b[0mx\u001b[0m\u001b[1;33m[\u001b[0m\u001b[0mj\u001b[0m\u001b[1;33m]\u001b[0m\u001b[1;33m[\u001b[0m\u001b[0mk\u001b[0m\u001b[1;33m]\u001b[0m \u001b[1;33m=\u001b[0m \u001b[1;36m0\u001b[0m\u001b[1;33m\u001b[0m\u001b[1;33m\u001b[0m\u001b[0m\n\u001b[0m\u001b[0;32m     56\u001b[0m \u001b[1;33m\u001b[0m\u001b[0m\n\u001b[0;32m     57\u001b[0m         \u001b[0mprint\u001b[0m\u001b[1;33m(\u001b[0m\u001b[1;34m\"U {} koraka hobotnice flashaju {} puta.\"\u001b[0m\u001b[1;33m.\u001b[0m\u001b[0mformat\u001b[0m\u001b[1;33m(\u001b[0m\u001b[0mself\u001b[0m\u001b[1;33m.\u001b[0m\u001b[0mn_steps\u001b[0m\u001b[1;33m,\u001b[0m \u001b[0mself\u001b[0m\u001b[1;33m.\u001b[0m\u001b[0mn_flashes\u001b[0m\u001b[1;33m)\u001b[0m\u001b[1;33m)\u001b[0m\u001b[1;33m\u001b[0m\u001b[1;33m\u001b[0m\u001b[0m\n",
      "\u001b[1;31mTypeError\u001b[0m: 'NoneType' object is not subscriptable"
     ]
    }
   ],
   "source": [
    "Hobotnice('input11', 100, 15).count_flashes()\n",
    "\n",
    "Hobotnice('input11', 1000, 15).sim_flash()"
   ]
  },
  {
   "cell_type": "markdown",
   "metadata": {},
   "source": [
    "### 12.12."
   ]
  },
  {
   "cell_type": "code",
   "execution_count": 45,
   "metadata": {},
   "outputs": [],
   "source": [
    "import numpy as np\n",
    "from anytree import Node, RenderTree"
   ]
  },
  {
   "cell_type": "code",
   "execution_count": 351,
   "metadata": {},
   "outputs": [],
   "source": [
    "with open('input12.txt','r') as f:\n",
    "    x_in = f.read()\n",
    "\n",
    "x_in = [i.split(\"-\") for i in x_in.split(\"\\n\")]\n",
    "\n",
    "with open('tst_input12.txt','r') as f:\n",
    "    x_tst = f.read()\n",
    "\n",
    "x_tst = [i.split(\"-\") for i in x_tst.split(\"\\n\")]\n"
   ]
  },
  {
   "cell_type": "code",
   "execution_count": 340,
   "metadata": {},
   "outputs": [
    {
     "name": "stdout",
     "output_type": "stream",
     "text": [
      "3887\n"
     ]
    }
   ],
   "source": [
    "x = x_in\n",
    "n_passes = 10\n",
    "\n",
    "index = {}\n",
    "\n",
    "for u in np.unique(np.array(x)):\n",
    "    \n",
    "    index[u] = [ v[v.index(u)-1] for v in x if u in v and v[v.index(u)-1] != 'start']\n",
    "\n",
    "index['end'] = ['0']\n",
    "\n",
    "level = index['start']\n",
    "\n",
    "n_end = 0\n",
    "\n",
    "\n",
    "while level != []:\n",
    "    temp = [index[l[-1:-3:-1][::-1]] for l in level  ]\n",
    "\n",
    "    level = [level[k]+\", \"+temp[k][l]  for k in range(len(level)) for l in range(len(temp[k]))]\n",
    "\n",
    "\n",
    "    for i in range(n_passes):\n",
    "        for l in level:\n",
    "\n",
    "            l_lower = [i for i in l.split(\", \") if (i.islower() and i != 'end' and i != 'start')]\n",
    "\n",
    "            if len(set(l_lower)) != len(l_lower):\n",
    "                level.remove(l)\n",
    "\n",
    "        for l in level:\n",
    "            if 'end' in l.split(\", \"):\n",
    "                n_end += 1\n",
    "                level.remove(l)\n",
    "            \n",
    "\n",
    "\n",
    "print(n_end)"
   ]
  },
  {
   "cell_type": "code",
   "execution_count": 357,
   "metadata": {
    "scrolled": false
   },
   "outputs": [
    {
     "name": "stdout",
     "output_type": "stream",
     "text": [
      "0\n",
      "1\n",
      "10\n",
      "48\n",
      "228\n",
      "917\n",
      "3369\n",
      "9993\n",
      "24436\n",
      "47552\n",
      "75728\n",
      "96598\n",
      "104834\n",
      "104834\n"
     ]
    }
   ],
   "source": [
    "x = x_in\n",
    "n_passes = 20\n",
    "\n",
    "index = {}\n",
    "\n",
    "for u in np.unique(np.array(x)):\n",
    "    \n",
    "    index[u] = [ v[v.index(u)-1] for v in x if u in v and v[v.index(u)-1] != 'start']\n",
    "\n",
    "index['end'] = ['0']\n",
    "\n",
    "level = index['start']\n",
    "\n",
    "n_end = 0\n",
    "\n",
    "\n",
    "\n",
    "\n",
    "\n",
    "while level != []:\n",
    "    temp = [index[l[-1:-3:-1][::-1]] for l in level  ]\n",
    "\n",
    "    level = [level[k]+\", \"+temp[k][l]  for k in range(len(level)) for l in range(len(temp[k]))]\n",
    "\n",
    "\n",
    "    for i in range(n_passes):\n",
    "        for l in level:\n",
    "\n",
    "            l_lower = [i for i in l.split(\", \") if (i.islower() and i != 'end' and i != 'start')]\n",
    "\n",
    "            if len(set(l_lower)) != len(l_lower)  and len(set(l_lower)) != len(l_lower) - 1:\n",
    "                level.remove(l)\n",
    "\n",
    "        for l in level:\n",
    "            if 'end' in l.split(\", \"):\n",
    "                n_end += 1\n",
    "                level.remove(l)\n",
    "            \n",
    "\n",
    "print(n_end)"
   ]
  },
  {
   "cell_type": "markdown",
   "metadata": {},
   "source": [
    "### 13.12."
   ]
  },
  {
   "cell_type": "code",
   "execution_count": 26,
   "metadata": {},
   "outputs": [],
   "source": [
    "import numpy as np"
   ]
  },
  {
   "cell_type": "code",
   "execution_count": 20,
   "metadata": {},
   "outputs": [],
   "source": [
    "with open('input13.txt','r') as f:\n",
    "    x_in = f.read()\n",
    "\n",
    "x_in, folds_in = x_in.split(\"\\n\\n\")\n",
    "x_in = [[int(j) for j in i.split(\",\")] for i in x_in.split(\"\\n\")]\n",
    "\n",
    "folds_in = [f[11::] for f in folds_in.split(\"\\n\")]\n",
    "folds_in = [[f[0:1:], int(f[2::])] for f in folds_in]\n",
    "\n",
    "with open('tst_input13.txt','r') as f:\n",
    "    x_tst = f.read()\n",
    "\n",
    "x_tst, folds_tst = x_tst.split(\"\\n\\n\")\n",
    "x_tst = [[int(j) for j in i.split(\",\")] for i in x_tst.split(\"\\n\")]\n",
    "\n",
    "folds_tst = [f[11::] for f in folds_tst.split(\"\\n\")]\n",
    "folds_tst = [[f[0:1:], int(f[2::])] for f in folds_tst]"
   ]
  },
  {
   "cell_type": "code",
   "execution_count": 24,
   "metadata": {},
   "outputs": [
    {
     "data": {
      "text/plain": [
       "[[6, 10],\n",
       " [0, 14],\n",
       " [9, 10],\n",
       " [0, 3],\n",
       " [10, 4],\n",
       " [4, 11],\n",
       " [6, 0],\n",
       " [6, 12],\n",
       " [4, 1],\n",
       " [0, 13],\n",
       " [10, 12],\n",
       " [3, 4],\n",
       " [3, 0],\n",
       " [8, 4],\n",
       " [1, 10],\n",
       " [2, 14],\n",
       " [8, 10],\n",
       " [9, 0]]"
      ]
     },
     "execution_count": 24,
     "metadata": {},
     "output_type": "execute_result"
    }
   ],
   "source": [
    "x_tst"
   ]
  },
  {
   "cell_type": "code",
   "execution_count": 105,
   "metadata": {},
   "outputs": [
    {
     "data": {
      "text/plain": [
       "[['x', 655],\n",
       " ['y', 447],\n",
       " ['x', 327],\n",
       " ['y', 223],\n",
       " ['x', 163],\n",
       " ['y', 111],\n",
       " ['x', 81],\n",
       " ['y', 55],\n",
       " ['x', 40],\n",
       " ['y', 27],\n",
       " ['y', 13],\n",
       " ['y', 6]]"
      ]
     },
     "execution_count": 105,
     "metadata": {},
     "output_type": "execute_result"
    }
   ],
   "source": [
    "folds_in"
   ]
  },
  {
   "cell_type": "code",
   "execution_count": 147,
   "metadata": {},
   "outputs": [
    {
     "name": "stdout",
     "output_type": "stream",
     "text": [
      "814\n"
     ]
    }
   ],
   "source": [
    "x = np.array(x_in)\n",
    "folds = np.array(folds_in)\n",
    "\n",
    "x_max = np.max(x[:,0]) + 1\n",
    "y_max = np.max(x[:,1]) + 1\n",
    "\n",
    "matrica = np.zeros((y_max,x_max))\n",
    "\n",
    "for xx in x:\n",
    "        matrica[xx[1],xx[0]] = 1\n",
    "\n",
    "\n",
    "\n",
    "count = 0   \n",
    "for f in folds:\n",
    "    \n",
    "    if count != 0:\n",
    "        matrica = matrica_n\n",
    "    \n",
    "    if f[0] == 'y':\n",
    "        y_max = int(y_max/2)\n",
    "        \n",
    "    if f[0] == 'x':\n",
    "        x_max = int(x_max/2)\n",
    "        \n",
    "    matrica_n = np.full( ( y_max ,x_max ), 0 )\n",
    "\n",
    "    for i in range(matrica.shape[0]):\n",
    "        for j in range(matrica.shape[1]):\n",
    "            if f[0] == 'y':\n",
    "                if i < matrica_n.shape[0]:                \n",
    "                    matrica_n[i,j] += matrica[i,j]\n",
    "\n",
    "                if i > matrica_n.shape[0]:\n",
    "                    matrica_n[ 2*matrica_n.shape[0] -i, j] += matrica[i,j]\n",
    "\n",
    "            if f[0] == 'x':\n",
    "                if j < matrica_n.shape[1]:                \n",
    "                    matrica_n[i,j] += matrica[i,j]\n",
    "\n",
    "                if j > matrica_n.shape[1]:\n",
    "                    matrica_n[ i,2*matrica_n.shape[1] - j] += matrica[i,j]\n",
    "    \n",
    "    count += 1\n",
    "    if count >= 13:\n",
    "        break\n",
    "    \n",
    "        \n",
    "print(np.count_nonzero(matrica_n))\n",
    "#print(np.array([ ['.' if j==0 else '#' for j in i] for i in matrica_n]))"
   ]
  }
 ],
 "metadata": {
  "kernelspec": {
   "display_name": "Python 3",
   "language": "python",
   "name": "python3"
  },
  "language_info": {
   "codemirror_mode": {
    "name": "ipython",
    "version": 3
   },
   "file_extension": ".py",
   "mimetype": "text/x-python",
   "name": "python",
   "nbconvert_exporter": "python",
   "pygments_lexer": "ipython3",
   "version": "3.8.5"
  }
 },
 "nbformat": 4,
 "nbformat_minor": 4
}
